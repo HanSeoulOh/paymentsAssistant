{
    "cells": [{
            "attachments": {},
            "cell_type": "markdown",
            "metadata": {},
            "source": [
                "# ChatGPT Payments Assistant"
            ]
        },
        {
            "cell_type": "code",
            "execution_count": 1,
            "metadata": {
                "tags": ["remove-cell"]
            },
            "outputs": [],
            "source": [
                "import openai\n",
                "import os\n",
                "import iplantuml\n",
                "from IPython.display import display, Markdown, Latex, HTML, Image, SVG, Javascript, IFrame, Audio, Video, JSON, Pretty\n",
                "import random as rd\n",
                "\n",
                "# Get API key\n",
                "with open('secret', 'r') as file:\n",
                "    secret = file.read()\n",
                "\n",
                "openai.api_key = secret\n"
            ]
        },
        {
            "attachments": {},
            "cell_type": "markdown",
            "metadata": {},
            "source": [
                "Write me a python script to make a monthly recurring payment using a banking API."
            ]
        },
        {
            "cell_type": "code",
            "execution_count": 2,
            "metadata": {
                "tags": ["hide-input"]
            },
            "outputs": [{
                "name": "stdout",
                "output_type": "stream",
                "text": [
                    "Sure, here's the Python script:\n",
                    "\n",
                    "```\n",
                    "import banking_api\n",
                    "\n",
                    "# Replace with actual API credentials\n",
                    "api_key = \"YOUR_API_KEY\"\n",
                    "api_secret = \"YOUR_API_SECRET\"\n",
                    "\n",
                    "# Replace with actual recipient and amount\n",
                    "recipient = \"John Doe\"\n",
                    "amount = 100.00\n",
                    "\n",
                    "# Replace with recurring schedule\n",
                    "# Option 1: Monthly on a specific day\n",
                    "schedule = \"1st\"\n",
                    "# Option 2: Every 30 days from today\n",
                    "# schedule = \"30d\"\n",
                    "\n",
                    "# Loop through each month and make the payment\n",
                    "while True:\n",
                    "    # Send payment\n",
                    "    banking_api.send_payment(api_key, api_secret, recipient, amount)\n",
                    "\n",
                    "    # Show balance\n",
                    "    balance = banking_api.show_balance(api_key, api_secret)\n",
                    "    print(\"Remaining balance: ${}\".format(balance))\n",
                    "\n",
                    "    # Sleep until next payment date\n",
                    "    if schedule == \"1st\":\n",
                    "        # Option 1: Monthly on a specific day\n",
                    "        today = datetime.date.today()\n",
                    "        next_month = today.replace(day=1) + datetime.timedelta(days=31)\n",
                    "        sleep_time = (next_month - today).total_seconds()\n",
                    "    else:\n",
                    "        # Option 2: Every 30 days from today\n",
                    "        sleep_time = datetime.timedelta(days=30).total_seconds()\n",
                    "    time.sleep(sleep_time)\n",
                    "```\n",
                    "\n",
                    "And here's the corresponding PlantUML code snippet:\n",
                    "\n",
                    "```\n",
                    "@startuml\n",
                    "title Monthly Recurring Payment\n",
                    "\n",
                    "actor User\n",
                    "\n",
                    "User -> Script: Starts script\n",
                    "Script -> BankingAPI: Authenticate with API credentials\n",
                    "Script -> User: Prompts for recipient and amount\n",
                    "User -> Script: Inputs recipient and amount\n",
                    "Script -> User: Prompts for recurring schedule\n",
                    "User -> Script: Inputs recurring schedule\n",
                    "Script -> Loop: Make payment and show balance\n",
                    "Loop -> BankingAPI: Send payment to recipient\n",
                    "BankingAPI -> Loop: Confirms payment sent\n",
                    "Loop -> BankingAPI: Show balance\n",
                    "BankingAPI -> Loop: Returns balance\n",
                    "Loop -> Script: Sleep until next payment date\n",
                    "@enduml\n",
                    "```\n"
                ]
            }],
            "source": [
                "\n",
                "content = input()\n",
                "while True:\n",
                "    chatgptR = openai.ChatCompletion.create(\n",
                "    model=\"gpt-3.5-turbo\",\n",
                "    messages=[\n",
                "            {\"role\": \"system\", \"content\": \"You are a software engineer lead who works in payments teaching junior engineers how to code.\"},\n",
                "            {\"role\": \"user\", \"content\": content + \" Assume that the banking API can only perform simple transactions such as send payment, and show balance. Also create the corresponding plantUML code snippet to show the payment flow for this script. Don't forget that plantUML names with spaces in them require double quotes to be escaped.\"}\n",
                "        ]\n",
                "    )\n",
                "    plantUMLString = \"\"\n",
                "    flag = 0\n",
                "    worked = 0\n",
                "    for part in chatgptR.choices[0]['message']['content'].split('\\n'):\n",
                "        print(part)\n",
                "        if part == \"@startuml\":\n",
                "            flag = 1\n",
                "        if part == \"```\" and flag:\n",
                "            flag = 0\n",
                "            try:\n",
                "                get_ipython().run_cell_magic('plantuml', '', plantUMLString)\n",
                "                worked = 1\n",
                "                break\n",
                "            except Exception as e:\n",
                "                worked = 0\n",
                "                pass\n",
                "\n",
                "        if flag:\n",
                "            plantUMLString += part + \"\\n\"\n",
                "    \n",
                "    if worked:\n",
                "        break"
            ]
        },
        {
            "cell_type": "code",
            "execution_count": 3,
            "metadata": {},
            "outputs": [{
                "data": {
                    "image/svg+xml": [
                        "<svg xmlns=\"http://www.w3.org/2000/svg\" xmlns:xlink=\"http://www.w3.org/1999/xlink\" contentStyleType=\"text/css\" height=\"568px\" preserveAspectRatio=\"none\" style=\"width:724px;height:568px;background:#FFFFFF;\" version=\"1.1\" viewBox=\"0 0 724 568\" width=\"724px\" zoomAndPan=\"magnify\"><defs/><g><text fill=\"#000000\" font-family=\"sans-serif\" font-size=\"14\" font-weight=\"bold\" lengthAdjust=\"spacing\" textLength=\"225\" x=\"248.75\" y=\"27.9951\">Monthly Recurring Payment</text><line style=\"stroke:#181818;stroke-width:0.5;stroke-dasharray:5.0,5.0;\" x1=\"23\" x2=\"23\" y1=\"118.5938\" y2=\"488.1875\"/><line style=\"stroke:#181818;stroke-width:0.5;stroke-dasharray:5.0,5.0;\" x1=\"264.5\" x2=\"264.5\" y1=\"118.5938\" y2=\"488.1875\"/><line style=\"stroke:#181818;stroke-width:0.5;stroke-dasharray:5.0,5.0;\" x1=\"499\" x2=\"499\" y1=\"118.5938\" y2=\"488.1875\"/><line style=\"stroke:#181818;stroke-width:0.5;stroke-dasharray:5.0,5.0;\" x1=\"693.5\" x2=\"693.5\" y1=\"118.5938\" y2=\"488.1875\"/><text fill=\"#000000\" font-family=\"sans-serif\" font-size=\"14\" lengthAdjust=\"spacing\" textLength=\"31\" x=\"5\" y=\"115.292\">User</text><ellipse cx=\"23.5\" cy=\"50.7969\" fill=\"#E2E2F0\" rx=\"8\" ry=\"8\" style=\"stroke:#181818;stroke-width:0.5;\"/><path d=\"M23.5,58.7969 L23.5,85.7969 M10.5,66.7969 L36.5,66.7969 M23.5,85.7969 L10.5,100.7969 M23.5,85.7969 L36.5,100.7969 \" fill=\"none\" style=\"stroke:#181818;stroke-width:0.5;\"/><text fill=\"#000000\" font-family=\"sans-serif\" font-size=\"14\" lengthAdjust=\"spacing\" textLength=\"31\" x=\"5\" y=\"500.1826\">User</text><ellipse cx=\"23.5\" cy=\"511.9844\" fill=\"#E2E2F0\" rx=\"8\" ry=\"8\" style=\"stroke:#181818;stroke-width:0.5;\"/><path d=\"M23.5,519.9844 L23.5,546.9844 M10.5,527.9844 L36.5,527.9844 M23.5,546.9844 L10.5,561.9844 M23.5,546.9844 L36.5,561.9844 \" fill=\"none\" style=\"stroke:#181818;stroke-width:0.5;\"/><rect fill=\"#E2E2F0\" height=\"30.2969\" rx=\"2.5\" ry=\"2.5\" style=\"stroke:#181818;stroke-width:0.5;\" width=\"58\" x=\"235.5\" y=\"87.2969\"/><text fill=\"#000000\" font-family=\"sans-serif\" font-size=\"14\" lengthAdjust=\"spacing\" textLength=\"44\" x=\"242.5\" y=\"107.292\">Script</text><rect fill=\"#E2E2F0\" height=\"30.2969\" rx=\"2.5\" ry=\"2.5\" style=\"stroke:#181818;stroke-width:0.5;\" width=\"58\" x=\"235.5\" y=\"487.1875\"/><text fill=\"#000000\" font-family=\"sans-serif\" font-size=\"14\" lengthAdjust=\"spacing\" textLength=\"44\" x=\"242.5\" y=\"507.1826\">Script</text><rect fill=\"#E2E2F0\" height=\"30.2969\" rx=\"2.5\" ry=\"2.5\" style=\"stroke:#181818;stroke-width:0.5;\" width=\"95\" x=\"452\" y=\"87.2969\"/><text fill=\"#000000\" font-family=\"sans-serif\" font-size=\"14\" lengthAdjust=\"spacing\" textLength=\"81\" x=\"459\" y=\"107.292\">BankingAPI</text><rect fill=\"#E2E2F0\" height=\"30.2969\" rx=\"2.5\" ry=\"2.5\" style=\"stroke:#181818;stroke-width:0.5;\" width=\"95\" x=\"452\" y=\"487.1875\"/><text fill=\"#000000\" font-family=\"sans-serif\" font-size=\"14\" lengthAdjust=\"spacing\" textLength=\"81\" x=\"459\" y=\"507.1826\">BankingAPI</text><rect fill=\"#E2E2F0\" height=\"30.2969\" rx=\"2.5\" ry=\"2.5\" style=\"stroke:#181818;stroke-width:0.5;\" width=\"50\" x=\"668.5\" y=\"87.2969\"/><text fill=\"#000000\" font-family=\"sans-serif\" font-size=\"14\" lengthAdjust=\"spacing\" textLength=\"36\" x=\"675.5\" y=\"107.292\">Loop</text><rect fill=\"#E2E2F0\" height=\"30.2969\" rx=\"2.5\" ry=\"2.5\" style=\"stroke:#181818;stroke-width:0.5;\" width=\"50\" x=\"668.5\" y=\"487.1875\"/><text fill=\"#000000\" font-family=\"sans-serif\" font-size=\"14\" lengthAdjust=\"spacing\" textLength=\"36\" x=\"675.5\" y=\"507.1826\">Loop</text><polygon fill=\"#181818\" points=\"252.5,145.7266,262.5,149.7266,252.5,153.7266,256.5,149.7266\" style=\"stroke:#181818;stroke-width:1.0;\"/><line style=\"stroke:#181818;stroke-width:1.0;\" x1=\"23.5\" x2=\"258.5\" y1=\"149.7266\" y2=\"149.7266\"/><text fill=\"#000000\" font-family=\"sans-serif\" font-size=\"13\" lengthAdjust=\"spacing\" textLength=\"77\" x=\"30.5\" y=\"144.6606\">Starts script</text><polygon fill=\"#181818\" points=\"487.5,174.8594,497.5,178.8594,487.5,182.8594,491.5,178.8594\" style=\"stroke:#181818;stroke-width:1.0;\"/><line style=\"stroke:#181818;stroke-width:1.0;\" x1=\"264.5\" x2=\"493.5\" y1=\"178.8594\" y2=\"178.8594\"/><text fill=\"#000000\" font-family=\"sans-serif\" font-size=\"13\" lengthAdjust=\"spacing\" textLength=\"211\" x=\"271.5\" y=\"173.7935\">Authenticate with API credentials</text><polygon fill=\"#181818\" points=\"34.5,203.9922,24.5,207.9922,34.5,211.9922,30.5,207.9922\" style=\"stroke:#181818;stroke-width:1.0;\"/><line style=\"stroke:#181818;stroke-width:1.0;\" x1=\"28.5\" x2=\"263.5\" y1=\"207.9922\" y2=\"207.9922\"/><text fill=\"#000000\" font-family=\"sans-serif\" font-size=\"13\" lengthAdjust=\"spacing\" textLength=\"217\" x=\"40.5\" y=\"202.9263\">Prompts for recipient and amount</text><polygon fill=\"#181818\" points=\"252.5,233.125,262.5,237.125,252.5,241.125,256.5,237.125\" style=\"stroke:#181818;stroke-width:1.0;\"/><line style=\"stroke:#181818;stroke-width:1.0;\" x1=\"23.5\" x2=\"258.5\" y1=\"237.125\" y2=\"237.125\"/><text fill=\"#000000\" font-family=\"sans-serif\" font-size=\"13\" lengthAdjust=\"spacing\" textLength=\"180\" x=\"30.5\" y=\"232.0591\">Inputs recipient and amount</text><polygon fill=\"#181818\" points=\"34.5,262.2578,24.5,266.2578,34.5,270.2578,30.5,266.2578\" style=\"stroke:#181818;stroke-width:1.0;\"/><line style=\"stroke:#181818;stroke-width:1.0;\" x1=\"28.5\" x2=\"263.5\" y1=\"266.2578\" y2=\"266.2578\"/><text fill=\"#000000\" font-family=\"sans-serif\" font-size=\"13\" lengthAdjust=\"spacing\" textLength=\"198\" x=\"40.5\" y=\"261.1919\">Prompts for recurring schedule</text><polygon fill=\"#181818\" points=\"252.5,291.3906,262.5,295.3906,252.5,299.3906,256.5,295.3906\" style=\"stroke:#181818;stroke-width:1.0;\"/><line style=\"stroke:#181818;stroke-width:1.0;\" x1=\"23.5\" x2=\"258.5\" y1=\"295.3906\" y2=\"295.3906\"/><text fill=\"#000000\" font-family=\"sans-serif\" font-size=\"13\" lengthAdjust=\"spacing\" textLength=\"161\" x=\"30.5\" y=\"290.3247\">Inputs recurring schedule</text><polygon fill=\"#181818\" points=\"681.5,320.5234,691.5,324.5234,681.5,328.5234,685.5,324.5234\" style=\"stroke:#181818;stroke-width:1.0;\"/><line style=\"stroke:#181818;stroke-width:1.0;\" x1=\"264.5\" x2=\"687.5\" y1=\"324.5234\" y2=\"324.5234\"/><text fill=\"#000000\" font-family=\"sans-serif\" font-size=\"13\" lengthAdjust=\"spacing\" textLength=\"215\" x=\"271.5\" y=\"319.4575\">Make payment and show balance</text><polygon fill=\"#181818\" points=\"510.5,349.6563,500.5,353.6563,510.5,357.6563,506.5,353.6563\" style=\"stroke:#181818;stroke-width:1.0;\"/><line style=\"stroke:#181818;stroke-width:1.0;\" x1=\"504.5\" x2=\"692.5\" y1=\"353.6563\" y2=\"353.6563\"/><text fill=\"#000000\" font-family=\"sans-serif\" font-size=\"13\" lengthAdjust=\"spacing\" textLength=\"170\" x=\"516.5\" y=\"348.5903\">Send payment to recipient</text><polygon fill=\"#181818\" points=\"681.5,378.7891,691.5,382.7891,681.5,386.7891,685.5,382.7891\" style=\"stroke:#181818;stroke-width:1.0;\"/><line style=\"stroke:#181818;stroke-width:1.0;\" x1=\"499.5\" x2=\"687.5\" y1=\"382.7891\" y2=\"382.7891\"/><text fill=\"#000000\" font-family=\"sans-serif\" font-size=\"13\" lengthAdjust=\"spacing\" textLength=\"152\" x=\"506.5\" y=\"377.7231\">Confirms payment sent</text><polygon fill=\"#181818\" points=\"510.5,407.9219,500.5,411.9219,510.5,415.9219,506.5,411.9219\" style=\"stroke:#181818;stroke-width:1.0;\"/><line style=\"stroke:#181818;stroke-width:1.0;\" x1=\"504.5\" x2=\"692.5\" y1=\"411.9219\" y2=\"411.9219\"/><text fill=\"#000000\" font-family=\"sans-serif\" font-size=\"13\" lengthAdjust=\"spacing\" textLength=\"89\" x=\"516.5\" y=\"406.856\">Show balance</text><polygon fill=\"#181818\" points=\"681.5,437.0547,691.5,441.0547,681.5,445.0547,685.5,441.0547\" style=\"stroke:#181818;stroke-width:1.0;\"/><line style=\"stroke:#181818;stroke-width:1.0;\" x1=\"499.5\" x2=\"687.5\" y1=\"441.0547\" y2=\"441.0547\"/><text fill=\"#000000\" font-family=\"sans-serif\" font-size=\"13\" lengthAdjust=\"spacing\" textLength=\"104\" x=\"506.5\" y=\"435.9888\">Returns balance</text><polygon fill=\"#181818\" points=\"275.5,466.1875,265.5,470.1875,275.5,474.1875,271.5,470.1875\" style=\"stroke:#181818;stroke-width:1.0;\"/><line style=\"stroke:#181818;stroke-width:1.0;\" x1=\"269.5\" x2=\"692.5\" y1=\"470.1875\" y2=\"470.1875\"/><text fill=\"#000000\" font-family=\"sans-serif\" font-size=\"13\" lengthAdjust=\"spacing\" textLength=\"194\" x=\"281.5\" y=\"465.1216\">Sleep until next payment date</text><!--SRC=[XP5HQiCm38RVVGfTO1V8mw3RKs65qB03g8wwc3gsaMMwthvosoKb2zkBmSgdJtzaSU89TZ78u2-m9rkONVY25YyZ1J46hKI6pqniJ3tXvHKwoov90vqWIuPykvfxjNv_mt1IoQRTDh0fCgZ8MHI2ivC1j0oMgQzLzFcfh_eRQ3cEIRL7dSjaNN9A0eOUS8n5CorZR4Cgog-o_yWVVvljG7tnz8TwISxYZnXJ0piy4QJxrcu1yX3FS42FmPAfp78p7Idrqo5npczcQlQ_nt1qFEQf8rTorViyU4sr9oaSygzmqxDweWIwFUSXqBTC8tjzmoi0]--></g></svg>"
                    ],
                    "text/plain": [
                        "<IPython.core.display.SVG object>"
                    ]
                },
                "execution_count": 3,
                "metadata": {},
                "output_type": "execute_result"
            }],
            "source": [
                "get_ipython().run_cell_magic('plantuml', '', plantUMLString)"
            ]
        }
    ],
    "metadata": {
        "kernelspec": {
            "display_name": "py311",
            "language": "python",
            "name": "python3"
        },
        "language_info": {
            "codemirror_mode": {
                "name": "ipython",
                "version": 3
            },
            "file_extension": ".py",
            "mimetype": "text/x-python",
            "name": "python",
            "nbconvert_exporter": "python",
            "pygments_lexer": "ipython3",
            "version": "3.11.0"
        },
        "orig_nbformat": 4,
        "vscode": {
            "interpreter": {
                "hash": "4a566c80d960a4b90fb0fd30741e2ea3520e05ae292fba084c014c3dbe2533ab"
            }
        }
    },
    "nbformat": 4,
    "nbformat_minor": 2
}