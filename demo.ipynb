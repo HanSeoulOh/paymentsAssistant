{
    "cells": [
        {
            "attachments": {},
            "cell_type": "markdown",
            "metadata": {},
            "source": [
                "# ChatGPT Payments Assistant"
            ]
        },
        {
            "cell_type": "code",
            "execution_count": null,
            "metadata": {
                "tags": [
                    "remove-cell"
                ]
            },
            "outputs": [],
            "source": [
                "import openai\n",
                "import os\n",
                "import iplantuml\n",
                "import markdown\n",
                "from IPython.display import display, Markdown, Latex, HTML, Image, SVG, Javascript, IFrame, Audio, Video, JSON, Pretty\n",
                "import random as rd\n",
                "\n",
                "# Get API key\n",
                "with open('secret', 'r') as file:\n",
                "    secret = file.read()\n",
                "\n",
                "openai.api_key = secret\n"
            ]
        },
        {
            "attachments": {},
            "cell_type": "markdown",
            "metadata": {},
            "source": [
                "Write me a python script to make a monthly recurring payment using a banking API."
            ]
        },
        {
            "cell_type": "code",
            "execution_count": null,
            "metadata": {
                "tags": [
                    "hide-input"
                ]
            },
            "outputs": [],
            "source": [
                "\n",
                "content = input()\n",
                "while True:\n",
                "    chatgptR = openai.ChatCompletion.create(\n",
                "    model=\"gpt-3.5-turbo\",\n",
                "    messages=[\n",
                "            {\"role\": \"system\", \"content\": \"You are a software engineer lead who works in payments teaching junior engineers how to code.\"},\n",
                "        {\"role\": \"user\", \"content\": content + \" Assume that the banking API can only perform simple transactions such as send payment and show balance, but doesn't have a schedule recurring payment function so you will have to use Python to schedule it. Also create the corresponding plantUML code snippet to show the payment flow for the Python script you give me. Don't forget that plantUML names with spaces in them require double quotes to be escaped.\"}\n",
                "        ]\n",
                "    )\n",
                "    plantUMLString = \"\"\n",
                "    flag = 0\n",
                "    worked = 0\n",
                "    for part in chatgptR.choices[0]['message']['content'].split('\\n'):\n",
                "        print(part)\n",
                "        if part == \"@startuml\":\n",
                "            flag = 1\n",
                "        if part == \"```\" and flag:\n",
                "            flag = 0\n",
                "            try:\n",
                "                get_ipython().run_cell_magic('plantuml', '', plantUMLString)\n",
                "                worked = 1\n",
                "                break\n",
                "            except Exception as e:\n",
                "                worked = 0\n",
                "                pass\n",
                "\n",
                "        if flag:\n",
                "            plantUMLString += part + \"\\n\"\n",
                "    \n",
                "    if worked:\n",
                "        break"
            ]
        },
        {
            "cell_type": "code",
            "execution_count": null,
            "metadata": {},
            "outputs": [],
            "source": [
                "get_ipython().run_cell_magic('plantuml', '', plantUMLString)"
            ]
        }
    ],
    "metadata": {
        "kernelspec": {
            "display_name": "py311",
            "language": "python",
            "name": "python3"
        },
        "language_info": {
            "codemirror_mode": {
                "name": "ipython",
                "version": 3
            },
            "file_extension": ".py",
            "mimetype": "text/x-python",
            "name": "python",
            "nbconvert_exporter": "python",
            "pygments_lexer": "ipython3",
            "version": "3.11.0"
        },
        "orig_nbformat": 4,
        "vscode": {
            "interpreter": {
                "hash": "4a566c80d960a4b90fb0fd30741e2ea3520e05ae292fba084c014c3dbe2533ab"
            }
        }
    },
    "nbformat": 4,
    "nbformat_minor": 2
}
