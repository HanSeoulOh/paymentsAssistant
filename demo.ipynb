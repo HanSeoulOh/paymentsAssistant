{
    "cells": [
        {
            "attachments": {},
            "cell_type": "markdown",
            "metadata": {},
            "source": [
                "# ChatGPT Payments Assistant"
            ]
        },
        {
            "cell_type": "code",
            "execution_count": 1,
            "metadata": {
                "tags": [
                    "remove-cell"
                ]
            },
            "outputs": [],
            "source": [
                "import openai\n",
                "import os\n",
                "import iplantuml\n",
                "from IPython.display import display, Markdown, Latex, HTML, Image, SVG, Javascript, IFrame, Audio, Video, JSON, Pretty\n",
                "import random as rd\n",
                "\n",
                "# Get API key\n",
                "with open('secret', 'r') as file:\n",
                "    secret = file.read()\n",
                "\n",
                "openai.api_key = secret\n"
            ]
        },
        {
            "attachments": {},
            "cell_type": "markdown",
            "metadata": {},
            "source": [
                "Write me a python script to make a monthly recurring payment using a banking API."
            ]
        },
        {
            "cell_type": "code",
            "execution_count": 2,
            "metadata": {
                "tags": [
                    "hide-input"
                ]
            },
            "outputs": [
                {
                    "name": "stdout",
                    "output_type": "stream",
                    "text": [
                        "Here's a Python script that schedules a monthly payment using a hypothetical banking API:\n",
                        "\n",
                        "```python\n",
                        "import time\n",
                        "import banking_api\n",
                        "\n",
                        "def make_payment(amount):\n",
                        "    # Make payment using banking API\n",
                        "    banking_api.send_payment(amount)\n",
                        "    print(\"Payment of {} made successfully\".format(amount))\n",
                        "\n",
                        "# Define payment details\n",
                        "payment_amount = 100\n",
                        "payment_frequency = 30 # days\n",
                        "\n",
                        "# Set start time for payment scheduling\n",
                        "start_time = time.time()\n",
                        "\n",
                        "# Schedule payments\n",
                        "while True:\n",
                        "    # Get current time\n",
                        "    current_time = time.time()\n",
                        "\n",
                        "    # Calculate time the next payment should be made\n",
                        "    next_payment_time = start_time + payment_frequency * 86400\n",
                        "\n",
                        "    # Check if it's time to make a payment\n",
                        "    if current_time >= next_payment_time:\n",
                        "        # Make payment\n",
                        "        make_payment(payment_amount)\n",
                        "\n",
                        "        # Update start time for next payment schedule\n",
                        "        start_time = current_time\n",
                        "```\n",
                        "\n",
                        "And here's the corresponding PlantUML code snippet that shows the payment flow:\n",
                        "\n",
                        "```\n",
                        "@startuml\n",
                        "\n",
                        "title Payment Flow\n",
                        "\n",
                        "actor User\n",
                        "participant Python\n",
                        "participant BankingAPI\n",
                        "\n",
                        "User -> Python: Run monthly payment script\n",
                        "activate Python\n",
                        "Python -> BankingAPI: Send payment of 100\n",
                        "activate BankingAPI\n",
                        "BankingAPI --> Python: Payment made successfully\n",
                        "deactivate BankingAPI\n",
                        "Python -> Python: Schedule next payment\n",
                        "deactivate Python\n",
                        "\n",
                        "@enduml\n",
                        "```\n"
                    ]
                }
            ],
            "source": [
                "\n",
                "content = input()\n",
                "while True:\n",
                "    chatgptR = openai.ChatCompletion.create(\n",
                "    model=\"gpt-3.5-turbo\",\n",
                "    messages=[\n",
                "            {\"role\": \"system\", \"content\": \"You are a software engineer lead who works in payments teaching junior engineers how to code.\"},\n",
                "        {\"role\": \"user\", \"content\": content + \" Assume that the banking API can only perform simple transactions such as send payment and show balance, but doesn't have a schedule recurring payment function so you will have to use Python to schedule it. Also create the corresponding plantUML code snippet to show the payment flow for the Python script you give me. Don't forget that plantUML names with spaces in them require double quotes to be escaped.\"}\n",
                "        ]\n",
                "    )\n",
                "    plantUMLString = \"\"\n",
                "    flag = 0\n",
                "    worked = 0\n",
                "    for part in chatgptR.choices[0]['message']['content'].split('\\n'):\n",
                "        print(part)\n",
                "        if part == \"@startuml\":\n",
                "            flag = 1\n",
                "        if part == \"```\" and flag:\n",
                "            flag = 0\n",
                "            try:\n",
                "                get_ipython().run_cell_magic('plantuml', '', plantUMLString)\n",
                "                worked = 1\n",
                "                break\n",
                "            except Exception as e:\n",
                "                worked = 0\n",
                "                pass\n",
                "\n",
                "        if flag:\n",
                "            plantUMLString += part + \"\\n\"\n",
                "    \n",
                "    if worked:\n",
                "        break"
            ]
        },
        {
            "cell_type": "code",
            "execution_count": 3,
            "metadata": {},
            "outputs": [
                {
                    "data": {
                        "image/svg+xml": [
                            "<svg xmlns=\"http://www.w3.org/2000/svg\" xmlns:xlink=\"http://www.w3.org/1999/xlink\" contentStyleType=\"text/css\" height=\"348px\" preserveAspectRatio=\"none\" style=\"width:499px;height:348px;background:#FFFFFF;\" version=\"1.1\" viewBox=\"0 0 499 348\" width=\"499px\" zoomAndPan=\"magnify\"><defs/><g><text fill=\"#000000\" font-family=\"sans-serif\" font-size=\"14\" font-weight=\"bold\" lengthAdjust=\"spacing\" textLength=\"113\" x=\"192\" y=\"27.9951\">Payment Flow</text><rect fill=\"#FFFFFF\" height=\"93.3984\" style=\"stroke:#181818;stroke-width:1.0;\" width=\"10\" x=\"225.5\" y=\"149.7266\"/><rect fill=\"#FFFFFF\" height=\"29.1328\" style=\"stroke:#181818;stroke-width:1.0;\" width=\"10\" x=\"440.5\" y=\"178.8594\"/><line style=\"stroke:#181818;stroke-width:0.5;stroke-dasharray:5.0,5.0;\" x1=\"23\" x2=\"23\" y1=\"118.5938\" y2=\"268.125\"/><line style=\"stroke:#181818;stroke-width:0.5;stroke-dasharray:5.0,5.0;\" x1=\"230\" x2=\"230\" y1=\"118.5938\" y2=\"268.125\"/><line style=\"stroke:#181818;stroke-width:0.5;stroke-dasharray:5.0,5.0;\" x1=\"445\" x2=\"445\" y1=\"118.5938\" y2=\"268.125\"/><text fill=\"#000000\" font-family=\"sans-serif\" font-size=\"14\" lengthAdjust=\"spacing\" textLength=\"31\" x=\"5\" y=\"115.292\">User</text><ellipse cx=\"23.5\" cy=\"50.7969\" fill=\"#E2E2F0\" rx=\"8\" ry=\"8\" style=\"stroke:#181818;stroke-width:0.5;\"/><path d=\"M23.5,58.7969 L23.5,85.7969 M10.5,66.7969 L36.5,66.7969 M23.5,85.7969 L10.5,100.7969 M23.5,85.7969 L36.5,100.7969 \" fill=\"none\" style=\"stroke:#181818;stroke-width:0.5;\"/><text fill=\"#000000\" font-family=\"sans-serif\" font-size=\"14\" lengthAdjust=\"spacing\" textLength=\"31\" x=\"5\" y=\"280.1201\">User</text><ellipse cx=\"23.5\" cy=\"291.9219\" fill=\"#E2E2F0\" rx=\"8\" ry=\"8\" style=\"stroke:#181818;stroke-width:0.5;\"/><path d=\"M23.5,299.9219 L23.5,326.9219 M10.5,307.9219 L36.5,307.9219 M23.5,326.9219 L10.5,341.9219 M23.5,326.9219 L36.5,341.9219 \" fill=\"none\" style=\"stroke:#181818;stroke-width:0.5;\"/><rect fill=\"#E2E2F0\" height=\"30.2969\" rx=\"2.5\" ry=\"2.5\" style=\"stroke:#181818;stroke-width:0.5;\" width=\"65\" x=\"198\" y=\"87.2969\"/><text fill=\"#000000\" font-family=\"sans-serif\" font-size=\"14\" lengthAdjust=\"spacing\" textLength=\"51\" x=\"205\" y=\"107.292\">Python</text><rect fill=\"#E2E2F0\" height=\"30.2969\" rx=\"2.5\" ry=\"2.5\" style=\"stroke:#181818;stroke-width:0.5;\" width=\"65\" x=\"198\" y=\"267.125\"/><text fill=\"#000000\" font-family=\"sans-serif\" font-size=\"14\" lengthAdjust=\"spacing\" textLength=\"51\" x=\"205\" y=\"287.1201\">Python</text><rect fill=\"#E2E2F0\" height=\"30.2969\" rx=\"2.5\" ry=\"2.5\" style=\"stroke:#181818;stroke-width:0.5;\" width=\"95\" x=\"398\" y=\"87.2969\"/><text fill=\"#000000\" font-family=\"sans-serif\" font-size=\"14\" lengthAdjust=\"spacing\" textLength=\"81\" x=\"405\" y=\"107.292\">BankingAPI</text><rect fill=\"#E2E2F0\" height=\"30.2969\" rx=\"2.5\" ry=\"2.5\" style=\"stroke:#181818;stroke-width:0.5;\" width=\"95\" x=\"398\" y=\"267.125\"/><text fill=\"#000000\" font-family=\"sans-serif\" font-size=\"14\" lengthAdjust=\"spacing\" textLength=\"81\" x=\"405\" y=\"287.1201\">BankingAPI</text><rect fill=\"#FFFFFF\" height=\"93.3984\" style=\"stroke:#181818;stroke-width:1.0;\" width=\"10\" x=\"225.5\" y=\"149.7266\"/><rect fill=\"#FFFFFF\" height=\"29.1328\" style=\"stroke:#181818;stroke-width:1.0;\" width=\"10\" x=\"440.5\" y=\"178.8594\"/><polygon fill=\"#181818\" points=\"213.5,145.7266,223.5,149.7266,213.5,153.7266,217.5,149.7266\" style=\"stroke:#181818;stroke-width:1.0;\"/><line style=\"stroke:#181818;stroke-width:1.0;\" x1=\"23.5\" x2=\"219.5\" y1=\"149.7266\" y2=\"149.7266\"/><text fill=\"#000000\" font-family=\"sans-serif\" font-size=\"13\" lengthAdjust=\"spacing\" textLength=\"183\" x=\"30.5\" y=\"144.6606\">Run monthly payment script</text><polygon fill=\"#181818\" points=\"428.5,174.8594,438.5,178.8594,428.5,182.8594,432.5,178.8594\" style=\"stroke:#181818;stroke-width:1.0;\"/><line style=\"stroke:#181818;stroke-width:1.0;\" x1=\"235.5\" x2=\"434.5\" y1=\"178.8594\" y2=\"178.8594\"/><text fill=\"#000000\" font-family=\"sans-serif\" font-size=\"13\" lengthAdjust=\"spacing\" textLength=\"139\" x=\"242.5\" y=\"173.7935\">Send payment of 100</text><polygon fill=\"#181818\" points=\"246.5,203.9922,236.5,207.9922,246.5,211.9922,242.5,207.9922\" style=\"stroke:#181818;stroke-width:1.0;\"/><line style=\"stroke:#181818;stroke-width:1.0;stroke-dasharray:2.0,2.0;\" x1=\"240.5\" x2=\"444.5\" y1=\"207.9922\" y2=\"207.9922\"/><text fill=\"#000000\" font-family=\"sans-serif\" font-size=\"13\" lengthAdjust=\"spacing\" textLength=\"181\" x=\"252.5\" y=\"202.9263\">Payment made successfully</text><line style=\"stroke:#181818;stroke-width:1.0;\" x1=\"235.5\" x2=\"277.5\" y1=\"242.125\" y2=\"242.125\"/><line style=\"stroke:#181818;stroke-width:1.0;\" x1=\"277.5\" x2=\"277.5\" y1=\"242.125\" y2=\"255.125\"/><line style=\"stroke:#181818;stroke-width:1.0;\" x1=\"230.5\" x2=\"277.5\" y1=\"255.125\" y2=\"255.125\"/><polygon fill=\"#181818\" points=\"240.5,251.125,230.5,255.125,240.5,259.125,236.5,255.125\" style=\"stroke:#181818;stroke-width:1.0;\"/><text fill=\"#000000\" font-family=\"sans-serif\" font-size=\"13\" lengthAdjust=\"spacing\" textLength=\"153\" x=\"242.5\" y=\"237.0591\">Schedule next payment</text><!--SRC=[RP113i8W44Ntd68kO5AtNPZemiHTO-C124mjaGwa32gtjqsBrCGLXFd__J-mOOlGo3GWCPojUmaX5RiHRW57uUN8HXalfs6Jk7VqytIIz31qFpON8MOzx0whh8Ph91WSSMyJ-9KVr6Wypm7cAHapSZbcSm7Mq2BfhzDriA-gujmaboliDlbvfq5gX12LmX2wQ6qI6lzXIebCQ5MFEaxVG_Zct6JhNeGV]--></g></svg>"
                        ],
                        "text/plain": [
                            "<IPython.core.display.SVG object>"
                        ]
                    },
                    "execution_count": 3,
                    "metadata": {},
                    "output_type": "execute_result"
                }
            ],
            "source": [
                "get_ipython().run_cell_magic('plantuml', '', plantUMLString)"
            ]
        }
    ],
    "metadata": {
        "kernelspec": {
            "display_name": "py311",
            "language": "python",
            "name": "python3"
        },
        "language_info": {
            "codemirror_mode": {
                "name": "ipython",
                "version": 3
            },
            "file_extension": ".py",
            "mimetype": "text/x-python",
            "name": "python",
            "nbconvert_exporter": "python",
            "pygments_lexer": "ipython3",
            "version": "3.11.0"
        },
        "orig_nbformat": 4,
        "vscode": {
            "interpreter": {
                "hash": "4a566c80d960a4b90fb0fd30741e2ea3520e05ae292fba084c014c3dbe2533ab"
            }
        }
    },
    "nbformat": 4,
    "nbformat_minor": 2
}
